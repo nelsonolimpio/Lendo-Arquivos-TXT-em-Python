{
 "cells": [
  {
   "cell_type": "code",
   "execution_count": 56,
   "id": "b769980b",
   "metadata": {},
   "outputs": [],
   "source": [
    "import pandas as pd #Importando a biblioteca pandas"
   ]
  },
  {
   "cell_type": "code",
   "execution_count": 61,
   "id": "388e4dc2",
   "metadata": {},
   "outputs": [],
   "source": [
    "df = pd.read_csv('teste.txt', sep=';', header=0) #Aqui nós vamos ler o arquivo \"teste.txt\" utilizando o separador \";\"."
   ]
  },
  {
   "cell_type": "code",
   "execution_count": 62,
   "id": "a6bd7f33",
   "metadata": {},
   "outputs": [],
   "source": [
    "#Nó código acima nós consideramos a primeira linha como título da tabela com o comando \"header\""
   ]
  },
  {
   "cell_type": "code",
   "execution_count": 63,
   "id": "35f17d3c",
   "metadata": {},
   "outputs": [
    {
     "name": "stdout",
     "output_type": "stream",
     "text": [
      "    Nome  Idade          Cidade\n",
      "0  Maria     30       São Paulo\n",
      "1   João     25  Rio de Janeiro\n",
      "2    Ana     28  Belo Horizonte\n"
     ]
    }
   ],
   "source": [
    "print(df) #Aqui nós vamos imprimir a tabela \"df\""
   ]
  },
  {
   "cell_type": "markdown",
   "id": "93830448",
   "metadata": {},
   "source": [
    "Nós temos o porde de vizualizar somente as colunas que desejamos. Vamos criar uma nova vareável cujo o seu valor será as colunas selecionadas da tabela \"df\". Como no código abaixo:"
   ]
  },
  {
   "cell_type": "code",
   "execution_count": 67,
   "id": "72fc2e7b",
   "metadata": {},
   "outputs": [],
   "source": [
    "SelecColumns = df[['Nome', 'Cidade']]"
   ]
  },
  {
   "cell_type": "code",
   "execution_count": 68,
   "id": "015ea242",
   "metadata": {},
   "outputs": [
    {
     "name": "stdout",
     "output_type": "stream",
     "text": [
      "    Nome          Cidade\n",
      "0  Maria       São Paulo\n",
      "1   João  Rio de Janeiro\n",
      "2    Ana  Belo Horizonte\n"
     ]
    }
   ],
   "source": [
    "print(SelecColumns)"
   ]
  },
  {
   "cell_type": "markdown",
   "id": "6a83c544",
   "metadata": {},
   "source": [
    "#abaixo, vamos converter o arquivo em excel. Para efetuarmos a conversão somente com as colunas selecionadas vamos utilizar a variável cujo o seu valor é são somente as colunas selecionadas da tabela principal. \n",
    "\n",
    "Se o nosso interesse for converter a tabela toda, basta utilizarmos o arquivo principal."
   ]
  },
  {
   "cell_type": "code",
   "execution_count": 69,
   "id": "bd8de454",
   "metadata": {},
   "outputs": [],
   "source": [
    "df.to_excel('fulldados.xlsx', index=False) #Convertendo a tabela principal"
   ]
  },
  {
   "cell_type": "code",
   "execution_count": 70,
   "id": "8148002b",
   "metadata": {},
   "outputs": [],
   "source": [
    "SelecColumns.to_excel('SelecColumnsDados.xlsx', index=False) #Convertendo a tabela com as colunas selecionadas"
   ]
  },
  {
   "cell_type": "markdown",
   "id": "fb41555b",
   "metadata": {},
   "source": [
    "Observação: Os arquivos em Excel serão salvos na mesma pasta que estiver salvo este código."
   ]
  },
  {
   "cell_type": "code",
   "execution_count": null,
   "id": "4f648c13",
   "metadata": {},
   "outputs": [],
   "source": []
  }
 ],
 "metadata": {
  "kernelspec": {
   "display_name": "Python 3 (ipykernel)",
   "language": "python",
   "name": "python3"
  },
  "language_info": {
   "codemirror_mode": {
    "name": "ipython",
    "version": 3
   },
   "file_extension": ".py",
   "mimetype": "text/x-python",
   "name": "python",
   "nbconvert_exporter": "python",
   "pygments_lexer": "ipython3",
   "version": "3.9.7"
  }
 },
 "nbformat": 4,
 "nbformat_minor": 5
}
